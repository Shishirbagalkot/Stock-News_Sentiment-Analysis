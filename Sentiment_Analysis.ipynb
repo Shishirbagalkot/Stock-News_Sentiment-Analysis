{
  "nbformat": 4,
  "nbformat_minor": 0,
  "metadata": {
    "colab": {
      "name": "Sentiment Analysis",
      "provenance": [],
      "collapsed_sections": [],
      "include_colab_link": true
    },
    "kernelspec": {
      "display_name": "Python 3",
      "name": "python3"
    }
  },
  "cells": [
    {
      "cell_type": "markdown",
      "metadata": {
        "id": "view-in-github",
        "colab_type": "text"
      },
      "source": [
        "<a href=\"https://colab.research.google.com/github/Shishirbagalkot/Stock-News_Sentiment-Analysis/blob/main/Sentiment_Analysis.ipynb\" target=\"_parent\"><img src=\"https://colab.research.google.com/assets/colab-badge.svg\" alt=\"Open In Colab\"/></a>"
      ]
    },
    {
      "cell_type": "code",
      "metadata": {
        "id": "mZIGfsGGQeSG",
        "colab": {
          "base_uri": "https://localhost:8080/"
        },
        "outputId": "b5eaa94c-d46e-43c7-ec65-60a689a7a76c"
      },
      "source": [
        "import nltk\n",
        "nltk.download('vader_lexicon')"
      ],
      "execution_count": null,
      "outputs": [
        {
          "output_type": "stream",
          "text": [
            "[nltk_data] Downloading package vader_lexicon to /root/nltk_data...\n"
          ],
          "name": "stdout"
        },
        {
          "output_type": "execute_result",
          "data": {
            "text/plain": [
              "True"
            ]
          },
          "metadata": {
            "tags": []
          },
          "execution_count": 4
        }
      ]
    },
    {
      "cell_type": "code",
      "metadata": {
        "id": "wljXJ1_iQRV1",
        "colab": {
          "base_uri": "https://localhost:8080/",
          "height": 317
        },
        "outputId": "c1239ef6-6324-4ffb-add5-3624082a8ef8"
      },
      "source": [
        "from urllib.request import urlopen, Request\n",
        "from bs4 import BeautifulSoup\n",
        "from nltk.sentiment.vader import SentimentIntensityAnalyzer\n",
        "import pandas as pd\n",
        "import matplotlib.pyplot as plt\n",
        "\n",
        "finviz_url = 'https://finviz.com/quote.ashx?t='\n",
        "tickers = ['AMZN', 'GOOG', 'FB']\n",
        "\n",
        "news_tables = {}\n",
        "for ticker in tickers:\n",
        "    url = finviz_url + ticker\n",
        "\n",
        "    req = Request(url=url, headers={'user-agent': 'my-app'})\n",
        "    response = urlopen(req)\n",
        "\n",
        "    html = BeautifulSoup(response, features='html.parser')\n",
        "    news_table = html.find(id='news-table')\n",
        "    news_tables[ticker] = news_table\n",
        "\n",
        "parsed_data = []\n",
        "\n",
        "for ticker, news_table in news_tables.items():\n",
        "\n",
        "    for row in news_table.findAll('tr'):\n",
        "\n",
        "        title = row.a.text\n",
        "        date_data = row.td.text.split(' ')\n",
        "\n",
        "        if len(date_data) == 1:\n",
        "            time = date_data[0]\n",
        "        else:\n",
        "            date = date_data[0]\n",
        "            time = date_data[1]\n",
        "\n",
        "        parsed_data.append([ticker, date, time, title])\n",
        "\n",
        "df = pd.DataFrame(parsed_data, columns=['ticker', 'date', 'time', 'title'])\n",
        "\n",
        "vader = SentimentIntensityAnalyzer()\n",
        "\n",
        "f = lambda title: vader.polarity_scores(title)['compound']\n",
        "df['compound'] = df['title'].apply(f)\n",
        "df['date'] = pd.to_datetime(df.date).dt.date\n",
        "\n",
        "plt.figure(figsize=(10,8))\n",
        "mean_df = df.groupby(['ticker', 'date']).mean().unstack()\n",
        "mean_df = mean_df.xs('compound', axis=\"columns\")\n",
        "mean_df.plot(kind='bar')\n",
        "plt.show()"
      ],
      "execution_count": null,
      "outputs": [
        {
          "output_type": "display_data",
          "data": {
            "text/plain": [
              "<Figure size 720x576 with 0 Axes>"
            ]
          },
          "metadata": {
            "tags": []
          }
        },
        {
          "output_type": "display_data",
          "data": {
            "image/png": "[encoded data removed]",
            "text/plain": [
              "<Figure size 432x288 with 1 Axes>"
            ]
          },
          "metadata": {
            "tags": [],
            "needs_background": "light"
          }
        }
      ]
    }
  ]
}